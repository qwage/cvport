{
 "cells": [
  {
   "cell_type": "code",
   "execution_count": 9,
   "metadata": {},
   "outputs": [],
   "source": [
    "import cv2 \n",
    "import os\n",
    "import glob\n",
    "from matplotlib.pyplot import imshow\n",
    "%matplotlib inline"
   ]
  },
  {
   "cell_type": "code",
   "execution_count": 43,
   "metadata": {},
   "outputs": [
    {
     "data": {
      "text/plain": [
       "['C:\\\\Users\\\\Tomo\\\\TomoCode\\\\AAE497\\\\src\\\\cvport\\\\notebooks\\\\test1.jpg',\n",
       " 'C:\\\\Users\\\\Tomo\\\\TomoCode\\\\AAE497\\\\src\\\\cvport\\\\notebooks\\\\test2.jpg',\n",
       " 'C:\\\\Users\\\\Tomo\\\\TomoCode\\\\AAE497\\\\src\\\\cvport\\\\notebooks\\\\test3.jpg',\n",
       " 'C:\\\\Users\\\\Tomo\\\\TomoCode\\\\AAE497\\\\src\\\\cvport\\\\notebooks\\\\test4.jpg',\n",
       " 'C:\\\\Users\\\\Tomo\\\\TomoCode\\\\AAE497\\\\src\\\\cvport\\\\notebooks\\\\test5.png',\n",
       " 'C:\\\\Users\\\\Tomo\\\\TomoCode\\\\AAE497\\\\src\\\\cvport\\\\notebooks\\\\test6.jpg']"
      ]
     },
     "execution_count": 43,
     "metadata": {},
     "output_type": "execute_result"
    }
   ],
   "source": [
    "img_list = [] \n",
    "img_extensions = ['png', 'jpg', 'jpeg']\n",
    "file_path = os.getcwd() + '\\*'\n",
    "for file in glob.glob(file_path):\n",
    "    if '.' in file:\n",
    "        if file.split('.')[1] in img_extensions:\n",
    "            img_list.append(file)\n",
    "img_list"
   ]
  },
  {
   "cell_type": "code",
   "execution_count": 44,
   "metadata": {},
   "outputs": [],
   "source": [
    "image = []\n",
    "for img in img_list:\n",
    "    image.append(cv2.imread(img))"
   ]
  },
  {
   "cell_type": "code",
   "execution_count": 50,
   "metadata": {},
   "outputs": [
    {
     "data": {
      "text/plain": [
       "-1"
      ]
     },
     "execution_count": 50,
     "metadata": {},
     "output_type": "execute_result"
    }
   ],
   "source": [
    "img = image[1]\n",
    "cv2.imshow('image',img)\n",
    "cv2.waitKey(0)"
   ]
  },
  {
   "cell_type": "code",
   "execution_count": 51,
   "metadata": {},
   "outputs": [],
   "source": [
    "gray_image = cv2.cvtColor(img, cv2.COLOR_BGR2GRAY)\n",
    "(thresh, binary_image) = cv2.threshold(gray_image, 120, 255, cv2.THRESH_BINARY)"
   ]
  },
  {
   "cell_type": "code",
   "execution_count": 52,
   "metadata": {},
   "outputs": [
    {
     "data": {
      "text/plain": [
       "-1"
      ]
     },
     "execution_count": 52,
     "metadata": {},
     "output_type": "execute_result"
    }
   ],
   "source": [
    "cv2.imshow('image',binary_image)\n",
    "cv2.waitKey(0)"
   ]
  },
  {
   "cell_type": "code",
   "execution_count": 55,
   "metadata": {},
   "outputs": [
    {
     "data": {
      "text/plain": [
       "(2562, 1920, 3)"
      ]
     },
     "execution_count": 55,
     "metadata": {},
     "output_type": "execute_result"
    }
   ],
   "source": [
    "dim = img.shape\n",
    "dim"
   ]
  },
  {
   "cell_type": "code",
   "execution_count": null,
   "metadata": {},
   "outputs": [],
   "source": []
  }
 ],
 "metadata": {
  "kernelspec": {
   "display_name": "Python 3",
   "language": "python",
   "name": "python3"
  },
  "language_info": {
   "codemirror_mode": {
    "name": "ipython",
    "version": 3
   },
   "file_extension": ".py",
   "mimetype": "text/x-python",
   "name": "python",
   "nbconvert_exporter": "python",
   "pygments_lexer": "ipython3",
   "version": "3.8.5"
  }
 },
 "nbformat": 4,
 "nbformat_minor": 4
}
